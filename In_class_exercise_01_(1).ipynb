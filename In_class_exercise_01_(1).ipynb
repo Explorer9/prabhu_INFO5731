{
  "nbformat": 4,
  "nbformat_minor": 0,
  "metadata": {
    "colab": {
      "name": "In_class_exercise_01 (1).ipynb",
      "provenance": [],
      "collapsed_sections": [],
      "include_colab_link": true
    },
    "kernelspec": {
      "display_name": "Python 3",
      "language": "python",
      "name": "python3"
    },
    "language_info": {
      "codemirror_mode": {
        "name": "ipython",
        "version": 3
      },
      "file_extension": ".py",
      "mimetype": "text/x-python",
      "name": "python",
      "nbconvert_exporter": "python",
      "pygments_lexer": "ipython3",
      "version": "3.7.4"
    }
  },
  "cells": [
    {
      "cell_type": "markdown",
      "metadata": {
        "id": "view-in-github",
        "colab_type": "text"
      },
      "source": [
        "<a href=\"https://colab.research.google.com/github/Explorer9/prabhu_INFO5731/blob/master/In_class_exercise_01_(1).ipynb\" target=\"_parent\"><img src=\"https://colab.research.google.com/assets/colab-badge.svg\" alt=\"Open In Colab\"/></a>"
      ]
    },
    {
      "cell_type": "markdown",
      "metadata": {
        "colab_type": "text",
        "id": "DymRJbxDBCnf"
      },
      "source": [
        "# **The first In-class-exercise (9/2/2020, 20 points in total)**"
      ]
    },
    {
      "cell_type": "markdown",
      "metadata": {
        "colab_type": "text",
        "id": "03jb4GZsBkBS"
      },
      "source": [
        "(1) Write a Python program to calculate the length of a string. (2 points)"
      ]
    },
    {
      "cell_type": "code",
      "metadata": {
        "colab_type": "code",
        "id": "YaGLbSHHB8Ej",
        "colab": {
          "base_uri": "https://localhost:8080/",
          "height": 35
        },
        "outputId": "bea093d4-def6-44f3-ba6a-d41211534415"
      },
      "source": [
        "# write your answer here\n",
        "string=\"hi\"\n",
        "length=0\n",
        "for i in string:\n",
        "  length=length+1\n",
        "print(length)"
      ],
      "execution_count": 1,
      "outputs": [
        {
          "output_type": "stream",
          "text": [
            "2\n"
          ],
          "name": "stdout"
        }
      ]
    },
    {
      "cell_type": "markdown",
      "metadata": {
        "colab_type": "text",
        "id": "jJDe71iLB616"
      },
      "source": [
        "(2) Write a Python program to count the number of characters in a string. (2 points)\n",
        "\n",
        "Sample String : 'google.com‘, \n",
        "\n",
        "Expected Result : {'o': 3, 'g': 2, '.': 1, 'e': 1, 'l': 1, 'm': 1, 'c': 1}"
      ]
    },
    {
      "cell_type": "code",
      "metadata": {
        "colab_type": "code",
        "id": "MtKskTzbCLaU",
        "colab": {
          "base_uri": "https://localhost:8080/",
          "height": 35
        },
        "outputId": "0164d2e9-5039-406c-b58b-0ed997c7a5e8"
      },
      "source": [
        "# write your answer here\n",
        "input_string = \"google.com\"\n",
        "count = {} \n",
        "  \n",
        "for i in input_string: \n",
        "   if i in count: \n",
        "     count[i] += 1\n",
        "   else: \n",
        "     count[i] = 1\n",
        "print(count)\n",
        "\n"
      ],
      "execution_count": 2,
      "outputs": [
        {
          "output_type": "stream",
          "text": [
            "{'g': 2, 'o': 3, 'l': 1, 'e': 1, '.': 1, 'c': 1, 'm': 1}\n"
          ],
          "name": "stdout"
        }
      ]
    },
    {
      "cell_type": "markdown",
      "metadata": {
        "colab_type": "text",
        "id": "55W9AMdXCSpV"
      },
      "source": [
        "(3) Write a Python program to sum all the items in a list. (2 points)"
      ]
    },
    {
      "cell_type": "code",
      "metadata": {
        "colab_type": "code",
        "id": "I57NXsauCec2",
        "colab": {
          "base_uri": "https://localhost:8080/",
          "height": 35
        },
        "outputId": "f3ef04e9-17c8-43e1-a004-95ceacd8d327"
      },
      "source": [
        "# write your answer here\n",
        "list=[1,23,5]\n",
        "sum=0\n",
        "for i in list:\n",
        "  sum=sum+i\n",
        "print(sum)"
      ],
      "execution_count": 3,
      "outputs": [
        {
          "output_type": "stream",
          "text": [
            "29\n"
          ],
          "name": "stdout"
        }
      ]
    },
    {
      "cell_type": "markdown",
      "metadata": {
        "colab_type": "text",
        "id": "4ulBZ6yhCi9F"
      },
      "source": [
        "(4) Write a Python program to get a string from a given string where all occurrences of its first char have been changed to '\\$', except the first char itself. (2 points)\n",
        "\n",
        "Sample String : 'restart‘, \n",
        "\n",
        "Expected Result : 'resta\\$t'"
      ]
    },
    {
      "cell_type": "code",
      "metadata": {
        "colab_type": "code",
        "id": "Fj0XhwbBCw2o",
        "colab": {
          "base_uri": "https://localhost:8080/",
          "height": 35
        },
        "outputId": "fa1ec777-bb1e-4086-b67c-b1d7c8d22f1e"
      },
      "source": [
        "# write your answer here\n",
        "string=\"restart\"\n",
        "new_string=string[0]+\"\"\n",
        "for i in range(len(string)-1):\n",
        "  if string[i+1]==string[0]:\n",
        "    new_string=new_string+\"$\"\n",
        "  else:\n",
        "    new_string=new_string+string[i+1]\n",
        "print(new_string)\n"
      ],
      "execution_count": 4,
      "outputs": [
        {
          "output_type": "stream",
          "text": [
            "resta$t\n"
          ],
          "name": "stdout"
        }
      ]
    },
    {
      "cell_type": "markdown",
      "metadata": {
        "colab_type": "text",
        "id": "_bIP7s1MCzue"
      },
      "source": [
        "(5) Write a program with python which could accept two parameter a and b to calculate and output the result of S, where \n",
        "\n",
        "$\\ S=3.14*(1+a/b)^3$ (3 points)\n",
        "\n"
      ]
    },
    {
      "cell_type": "code",
      "metadata": {
        "colab_type": "code",
        "id": "w79QilHXD3Mg",
        "colab": {
          "base_uri": "https://localhost:8080/",
          "height": 70
        },
        "outputId": "3f824f18-2358-4031-da6b-1a0f26995866"
      },
      "source": [
        "# write your answer here\n",
        "a=input(\"enter a:\")\n",
        "b=input(\"enter b:\")\n",
        "s=3.14*(1+int(a)/int(b))**3\n",
        "print(s)"
      ],
      "execution_count": 5,
      "outputs": [
        {
          "output_type": "stream",
          "text": [
            "enter a:2\n",
            "enter b:2\n",
            "25.12\n"
          ],
          "name": "stdout"
        }
      ]
    },
    {
      "cell_type": "markdown",
      "metadata": {
        "colab_type": "text",
        "id": "xCa2bK9aD4Q3"
      },
      "source": [
        "(6) Write a Python program to concatenate following dictionaries to create a new one. (3 points)\n",
        "\n",
        "Sample Dictionary : dic1={1:10, 2:20}, dic2={3:30, 4:40}, dic3={5:50,6:60}, \n",
        "\n",
        "Expected Result : {1: 10, 2: 20, 3: 30, 4: 40, 5: 50, 6: 60}\n"
      ]
    },
    {
      "cell_type": "code",
      "metadata": {
        "colab_type": "code",
        "id": "_z4aLqAbEET1",
        "colab": {
          "base_uri": "https://localhost:8080/",
          "height": 35
        },
        "outputId": "43d0e06a-f2f9-4983-9d7e-bcd9a6426497"
      },
      "source": [
        "dic1={1:10, 2:20}\n",
        "dic2={3:30, 4:40}\n",
        "dic3={5:50,6:60}\n",
        "dic_new = {}\n",
        "for i in (dic1, dic2, dic3): \n",
        "  dic_new.update(i)\n",
        "print(dic_new)\n"
      ],
      "execution_count": 6,
      "outputs": [
        {
          "output_type": "stream",
          "text": [
            "{1: 10, 2: 20, 3: 30, 4: 40, 5: 50, 6: 60}\n"
          ],
          "name": "stdout"
        }
      ]
    },
    {
      "cell_type": "markdown",
      "metadata": {
        "colab_type": "text",
        "id": "0v48Vqa7FrQh"
      },
      "source": [
        "(7) Write a Python program to check whether an element exists within a tuple. (3 points)"
      ]
    },
    {
      "cell_type": "code",
      "metadata": {
        "colab_type": "code",
        "id": "7WEmgq-DF2P1",
        "colab": {
          "base_uri": "https://localhost:8080/",
          "height": 35
        },
        "outputId": "e65dcd0b-5f06-43b2-9bce-72d4e6a49579"
      },
      "source": [
        "# write your answer here\n",
        "ele=\"ff\"\n",
        "tupl=(3,\"rt\",\"ff\",5)\n",
        "print(ele in tupl)\n",
        "    "
      ],
      "execution_count": 7,
      "outputs": [
        {
          "output_type": "stream",
          "text": [
            "True\n"
          ],
          "name": "stdout"
        }
      ]
    },
    {
      "cell_type": "markdown",
      "metadata": {
        "colab_type": "text",
        "id": "vD5PYLMuGga_"
      },
      "source": [
        "(8) Write a Python program to find maximum and the minimum value in a set. (3 points)"
      ]
    },
    {
      "cell_type": "code",
      "metadata": {
        "colab_type": "code",
        "id": "t0D5kdJUGjjw",
        "colab": {
          "base_uri": "https://localhost:8080/",
          "height": 52
        },
        "outputId": "4832702d-ed44-4bc8-f978-d8c5a0bebef3"
      },
      "source": [
        "# write your answer here\n",
        "sett=([4,6,2,5,3,4,5])\n",
        "print(\"Max:\",max(sett))\n",
        "print(\"Min:\",min(sett))"
      ],
      "execution_count": 8,
      "outputs": [
        {
          "output_type": "stream",
          "text": [
            "Max: 6\n",
            "Min: 2\n"
          ],
          "name": "stdout"
        }
      ]
    },
    {
      "cell_type": "markdown",
      "metadata": {
        "colab_type": "text",
        "id": "uHkd-y5VhVWC"
      },
      "source": [
        "(9) Write a Python program to randomly divide the students in this class into five groups for term projects, each group should have at least 3 students but no more than 5 students (including 5). Here is the students list: (3 points for extra)\n",
        "\n",
        "studnet_list = ['vmb0067','pc0353','snd0097','yye0005','sg0940','bk0301','rak0120','rrk0058','spk0057','vl0135','nm0547','pn0159',\n",
        "                'msp0174','dd0420','ds0761','rs0850','ss1995','at0739','at0768','mv0299','tv0119','dy0091']"
      ]
    },
    {
      "cell_type": "code",
      "metadata": {
        "colab_type": "code",
        "id": "3iGbmcOBhTwy",
        "colab": {
          "base_uri": "https://localhost:8080/",
          "height": 124
        },
        "outputId": "96ef8818-c399-446a-e859-56c4663014e6"
      },
      "source": [
        "# write your answer here\n",
        "t1=[]\n",
        "t2=[]\n",
        "t3=[]\n",
        "t4=[]\n",
        "t5=[]\n",
        "import random\n",
        "studnet_list = ['vmb0067','pc0353','snd0097','yye0005','sg0940','bk0301','rak0120','rrk0058','spk0057','vl0135','nm0547','pn0159', 'msp0174','dd0420','ds0761','rs0850','ss1995','at0739','at0768','mv0299','tv0119','dy0091']\n",
        "le=len(studnet_list)\n",
        "while len(studnet_list)!=0:\n",
        "  try:\n",
        "     t1.append(random.choice(studnet_list))\n",
        "     studnet_list.remove(t1[len(t1)-1])\n",
        "     t2.append(random.choice(studnet_list))\n",
        "     studnet_list.remove(t2[len(t2)-1])\n",
        "     t3.append(random.choice(studnet_list))\n",
        "     studnet_list.remove(t3[len(t3)-1])\n",
        "     t4.append(random.choice(studnet_list))\n",
        "     studnet_list.remove(t4[len(t4)-1])\n",
        "     t5.append(random.choice(studnet_list))\n",
        "     studnet_list.remove(t5[len(t5)-1])\n",
        "  except IndexError as e:\n",
        "    print(e)\n",
        "\n",
        "print(\"t1:\",t1)\n",
        "print(\"t2:\",t2)\n",
        "print(\"t3:\",t3)\n",
        "print(\"t4:\",t4)\n",
        "print(\"t5:\",t5)\n",
        "\n",
        "\n",
        "\n"
      ],
      "execution_count": 9,
      "outputs": [
        {
          "output_type": "stream",
          "text": [
            "Cannot choose from an empty sequence\n",
            "t1: ['rrk0058', 'ss1995', 'ds0761', 'vmb0067', 'sg0940']\n",
            "t2: ['dd0420', 'vl0135', 'pc0353', 'pn0159', 'at0768']\n",
            "t3: ['rs0850', 'at0739', 'yye0005', 'snd0097']\n",
            "t4: ['spk0057', 'nm0547', 'dy0091', 'bk0301']\n",
            "t5: ['rak0120', 'mv0299', 'msp0174', 'tv0119']\n"
          ],
          "name": "stdout"
        }
      ]
    }
  ]
}