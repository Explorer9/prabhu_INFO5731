{
  "nbformat": 4,
  "nbformat_minor": 0,
  "metadata": {
    "colab": {
      "name": "INFO5731_Assignment_One.ipynb",
      "provenance": [],
      "collapsed_sections": [],
      "toc_visible": true
    },
    "kernelspec": {
      "name": "python3",
      "display_name": "Python 3"
    }
  },
  "cells": [
    {
      "cell_type": "markdown",
      "metadata": {
        "id": "Ryk8D1Q4Wsrp",
        "colab_type": "text"
      },
      "source": [
        "# **INFO5731 Assignment One**"
      ]
    },
    {
      "cell_type": "markdown",
      "metadata": {
        "id": "90_NR8c5XGWc",
        "colab_type": "text"
      },
      "source": [
        "# Question 1\n",
        "\n",
        "(20 points). Write a Python program to generate 12 random numbers between 1 and 100. Sort the list of numbers in ascending order and print it out. Sort the list of numbers in descending order and print it out. Calculate the average for the group and print it out."
      ]
    },
    {
      "cell_type": "code",
      "metadata": {
        "id": "5QX6bJjGWXY9",
        "colab_type": "code",
        "colab": {
          "base_uri": "https://localhost:8080/",
          "height": 88
        },
        "outputId": "7d974762-3115-4620-e360-c7f2c294e98e"
      },
      "source": [
        "# Your code here\n",
        "import numpy\n",
        "import pandas as pd \n",
        "from numpy import random\n",
        "x = random.randint(100,size=(12))\n",
        "print(\"random numbers between 1 and 100\",x)\n",
        "\n",
        "for i in range(len(x)):\n",
        "  for j in range(len(x)-i-1):\n",
        "    if x[j]>x[j+1]:\n",
        "      x[j],x[j+1]=x[j+1],x[j]\n",
        "print(\"Ascending order of x:\",x)\n",
        "\n",
        "for i in range(len(x)):\n",
        "  for j in range(len(x)-i-1):\n",
        "    if x[j]<x[j+1]:\n",
        "      x[j],x[j+1]=x[j+1],x[j]\n",
        "print(\"Decending order of x:\",x)\n",
        "sum=0\n",
        "for i in x:\n",
        "  sum=sum+i\n",
        "average=sum/len(x)\n",
        "print(\"average:\",average)\n",
        "\n",
        "\n"
      ],
      "execution_count": 1,
      "outputs": [
        {
          "output_type": "stream",
          "text": [
            "random numbers between 1 and 100 [98 86  6 18 69 78 45 18 87 63 49  9]\n",
            "Ascending order of x: [ 6  9 18 18 45 49 63 69 78 86 87 98]\n",
            "Decending order of x: [98 87 86 78 69 63 49 45 18 18  9  6]\n",
            "average: 52.166666666666664\n"
          ],
          "name": "stdout"
        }
      ]
    },
    {
      "cell_type": "markdown",
      "metadata": {
        "id": "1F_PZdH9Sh49",
        "colab_type": "text"
      },
      "source": [
        "# Question 2\n",
        "(25 points). Write a program that will do the following string formatting tasks:\n",
        "\n",
        "(1) Ask the user to enter two sentences.\n",
        "\n",
        "(2) Make each sentence into a list. Each element in the list should correspond to a word in the sentence. For example, if the sentence is \"Alas! Am I alive? This is my first python program\", the program should print out ['Alas, '!', 'Am', 'I', 'alive, '?', 'This', 'is', 'my', 'first', 'python', 'program'].\n",
        "\n",
        "(3) Compare the two sentences. Print out a list of words that occur in both sentences.\n",
        "\n",
        "(4) Remove any punctuation from the sentence and print it back out. It should remove at least the following characters, but it can remove more: period(“.”), comma (“,”), semicolon (“;”), and colon (“:”)\n",
        "\n",
        "(5) Count the number of vowels in the sentences. Print out each vowel and the number of times it appears in the sentences, such as: a:2, e:1, i:0, etc"
      ]
    },
    {
      "cell_type": "code",
      "metadata": {
        "id": "Y0oOSlsOS0cq",
        "colab_type": "code",
        "colab": {
          "base_uri": "https://localhost:8080/",
          "height": 212
        },
        "outputId": "2cfb3bf3-d035-4497-e91d-0f8e4b84e5a9"
      },
      "source": [
        "# Your code here\n",
        "#1\n",
        "import nltk\n",
        "nltk.download('punkt')\n",
        "from nltk import *\n",
        "from nltk.tokenize import word_tokenize\n",
        "sen1=input(\"enter first sentence:\")\n",
        "sen2=input(\"enter second sentence:\")\n",
        "#2\n",
        "words1=word_tokenize(sen1)\n",
        "words2=word_tokenize(sen2)\n",
        "print(\"list of words in entered sentence1 :\",words1)\n",
        "print(\"list of words in entered sentence2 :\",words2)\n",
        "#3\n",
        "match=[]\n",
        "for i in range(len(words1)):\n",
        "  for j in words2:\n",
        "    if(words1[i]==j):\n",
        "      match.append(j)\n",
        "print(\"matching words in both sentences\",match)\n",
        "\n",
        "#4\n",
        "def remove_punct(words):\n",
        "  sen3=\"\"\n",
        "  for i in words:\n",
        "    if i!=\".\"and i!=\",\" and i!=\";\" and i!=\":\" and i!=\"!\" and i!=\"?\" :\n",
        "      sen3=sen3+\" \"+i\n",
        "  return sen3\n",
        "print(\"sen1 without punctuations\",remove_punct(words1))\n",
        "print(\"sen2 without punctuations\",remove_punct(words2))\n",
        "\n",
        "\n",
        "#5\n",
        "def num_of_vowels(sen):\n",
        "  a=0\n",
        "  e=0\n",
        "  i=0\n",
        "  o=0\n",
        "  u=0\n",
        "  for j in sen:\n",
        "    if(j==\"a\"):\n",
        "      a=a+1\n",
        "    elif(j==\"e\"):\n",
        "      e=e+1\n",
        "    elif(j==\"i\"):\n",
        "      i=i+1\n",
        "    elif(j==\"o\"):\n",
        "      o=o+1\n",
        "    elif(j==\"u\"):\n",
        "      u=u+1\n",
        "  return \"a:\",a,\"e\",e,\"i:\",i,\"o:\",o,\"u:\",u\n",
        "print(\"num of vowels in sen1\",num_of_vowels(sen1))\n",
        "print(\"num of vowels in sen2\",num_of_vowels(sen2))\n",
        "\n",
        "\n",
        "\n"
      ],
      "execution_count": 5,
      "outputs": [
        {
          "output_type": "stream",
          "text": [
            "[nltk_data] Downloading package punkt to /root/nltk_data...\n",
            "[nltk_data]   Package punkt is already up-to-date!\n",
            "enter first sentence:\"Alas! Am I alive? This is my first python program\"\n",
            "enter second sentence:yes I am learning python for sure.\n",
            "list of words in entered sentence1 : ['``', 'Alas', '!', 'Am', 'I', 'alive', '?', 'This', 'is', 'my', 'first', 'python', 'program', \"''\"]\n",
            "list of words in entered sentence2 : ['yes', 'I', 'am', 'learning', 'python', 'for', 'sure', '.']\n",
            "matching words in both sentences ['I', 'python']\n",
            "sen1 without punctuations  `` Alas Am I alive This is my first python program ''\n",
            "sen2 without punctuations  yes I am learning python for sure\n",
            "num of vowels in sen1 ('a:', 3, 'e', 1, 'i:', 4, 'o:', 2, 'u:', 0)\n",
            "num of vowels in sen2 ('a:', 2, 'e', 3, 'i:', 1, 'o:', 2, 'u:', 1)\n"
          ],
          "name": "stdout"
        }
      ]
    },
    {
      "cell_type": "markdown",
      "metadata": {
        "id": "CmFoI4jDS9nx",
        "colab_type": "text"
      },
      "source": [
        "# Question 3 \n",
        "\n",
        "(15 points). The formula that describes the volume V of a sphere with radius r is the following:\n",
        "\n",
        "$ V=\\frac{4}{3}\\ast\\ \\pi\\ast\\ r^3 $\n",
        "\n",
        "Write a program to calculate the value of V when r is in the range of 1–10. Output the result in the following format:\n",
        "\n",
        "\tr\tV\n",
        "\t1\t…\n",
        "\t2\t…\n",
        "\t3\t…\n"
      ]
    },
    {
      "cell_type": "code",
      "metadata": {
        "id": "pEyqeioAT95b",
        "colab_type": "code",
        "colab": {
          "base_uri": "https://localhost:8080/",
          "height": 212
        },
        "outputId": "81fad3fc-a0a5-42a2-a049-7ecac1e201df"
      },
      "source": [
        "# Your code here\n",
        "\n",
        "print(\"r\",\"v\")\n",
        "for r in range(1,11,1):\n",
        "  volume=4*numpy.pi*r*r*r/3 \n",
        "  print(r,volume)"
      ],
      "execution_count": 6,
      "outputs": [
        {
          "output_type": "stream",
          "text": [
            "r v\n",
            "1 4.1887902047863905\n",
            "2 33.510321638291124\n",
            "3 113.09733552923255\n",
            "4 268.082573106329\n",
            "5 523.5987755982989\n",
            "6 904.7786842338604\n",
            "7 1436.7550402417319\n",
            "8 2144.660584850632\n",
            "9 3053.6280592892786\n",
            "10 4188.790204786391\n"
          ],
          "name": "stdout"
        }
      ]
    },
    {
      "cell_type": "markdown",
      "metadata": {
        "id": "z3tBE7E-Xn5X",
        "colab_type": "text"
      },
      "source": [
        "# Question 4\n",
        "\n",
        "(40 points). In the field of Data Science, data is often formatted as a comma-delimited (CSV) file, where each line in a file corresponds to a field's value. Refer to Chapter 9 (p. 106) for more information on comma-delimited files. To answer this question, you will need to download the file [Assignment1_denton_housing.csv](https://github.com/unt-iialab/INFO5731_FALL2020/blob/master/Assignments/Assignment1_denton_housing.csv) included with this assignment. The [file Assignment1_denton_housing.csv](https://github.com/unt-iialab/INFO5731_FALL2020/blob/master/Assignments/Assignment1_denton_housing.csv) contains statistics about housing in the city of Denton from 2008 to 2014. Write a program to implement the following questions.\n",
        "\n",
        "(1) (10 pts) Calculate the difference in the number of Occupied Housing Units from year to year and print it. The difference must be calculated for the consecutive years such as 2008-2009, 2009-2010 etc. Finally, print the values in the ascending order.\n",
        "\n",
        "(2) (10 pts) For all the years, calculate the percentage of housing units which are vacant an occupied. Print the results in the following format:\n",
        "\n",
        "Year Vacant Housing Units Occupied Housing Units\n",
        "\n",
        "    2008  30%   70%                          \n",
        "\t2009 ----- -----\n",
        "\t2010 ----- -----\n",
        "    2011 ----- -----\n",
        "\t2012 ----- -----\n",
        "    2013 ----- -----\n",
        "\t2014 ----- -----\n",
        "  \n",
        "  \n",
        "\n",
        "(3) (10 pts) Calculate and print the valued and years in which the highest number of housing units were vacant and occupied. Print the results in the following format:  \n",
        "\n",
        "                              Year\tValue\n",
        "\tVacant Housing Units\t  -----   -----\n",
        "\tOccupied Housing Units\t-----   -----\n",
        "\n",
        "(4) (10 pts) Calculate the harmonic mean of the total housing units and print it out. You can find the information about harmonic mean here: https://ncalculators.com/statistics/harmonic-mean-calculator.htm"
      ]
    },
    {
      "cell_type": "code",
      "metadata": {
        "id": "lqGYuHBhcsRH",
        "colab_type": "code",
        "colab": {
          "base_uri": "https://localhost:8080/",
          "height": 588
        },
        "outputId": "67a51951-8eff-4efc-a44a-912fdaf04ede"
      },
      "source": [
        "# Your code here\n",
        "#1\n",
        "housing=pd.read_csv(\"/content/Assignment1_denton_housing.csv\")\n",
        "housing_occu=housing.loc[housing['title_field']=='Occupied Housing Units']\n",
        "diff=[]\n",
        "dicto={}\n",
        "for i in sorted(housing_occu[\"year\"].tolist()):\n",
        "  tempo=housing_occu.value[housing_occu['year']==i].values-housing_occu.value[housing_occu['year']==i+1].values\n",
        "  diff.append(tempo)\n",
        "  dicto[i]=tempo\n",
        "  print(i,\"-\",i+1,\":\",diff[len(diff)-1])\n",
        "print(\"Ascending order\")\n",
        "sort_orders = sorted(dicto.items(), key=lambda x: x[1])\n",
        "for i in sort_orders:\n",
        "\tprint(i[0], i[1])\n",
        " \n",
        " #2 \n",
        "print(\"#################2###################\")\n",
        "t=[]\n",
        "t1=[]\n",
        "year=[]\n",
        "for i in sorted(housing_occu[\"year\"].tolist()):\n",
        "  t.append(housing.value[housing['title_field']=='Occupied Housing Units'][housing['year']==i].values*100/housing.value[housing['title_field']=='Total Housing Units'][housing['year']==i].values)\n",
        "  t1.append(housing.value[housing['title_field']=='Vacant Housing Units'][housing['year']==i].values*100/housing.value[housing['title_field']=='Total Housing Units'][housing['year']==i].values)\n",
        "  print(i,\" \",t[len(t)-1][0],\"%\",\" \",t1[len(t1)-1][0],\"%\")\n",
        "\n",
        "#3\n",
        "print(\"#################3###################\")\n",
        "housing_occu_max=(housing.loc[housing['title_field']=='Occupied Housing Units'].max()).to_frame()\n",
        "housing_vacant_max=housing.loc[housing['title_field']=='Vacant Housing Units'].max().to_frame()\n",
        "maxdf=pd.concat([housing_occu_max.T,housing_vacant_max.T])\n",
        "print(maxdf[['title_field','year','value']])\n",
        "print(\"#################4###################\")\n",
        "inverted_sum=0\n",
        "housing_total=housing.loc[housing['title_field']=='Total Housing Units']\n",
        "for i in housing_total['value']:\n",
        "  inverted_sum=inverted_sum+(1/i)\n",
        "harmonic_mean=len(housing_total)/inverted_sum\n",
        "print(\"Harmonic mean is: \",harmonic_mean)\n",
        "\n",
        "\n",
        "\n",
        "\n",
        "  \n",
        "\n"
      ],
      "execution_count": 8,
      "outputs": [
        {
          "output_type": "stream",
          "text": [
            "2008 - 2009 : [795]\n",
            "2009 - 2010 : [-5091]\n",
            "2010 - 2011 : [303]\n",
            "2011 - 2012 : [-1404]\n",
            "2012 - 2013 : [-1565]\n",
            "2013 - 2014 : [-2622]\n",
            "2014 - 2015 : []\n",
            "Ascending order\n",
            "2009 [-5091]\n",
            "2013 [-2622]\n",
            "2012 [-1565]\n",
            "2011 [-1404]\n",
            "2010 [303]\n",
            "2008 [795]\n",
            "2014 []\n",
            "#################2###################\n",
            "2008   89.11734718648347 %   10.88265281351653 %\n",
            "2009   90.92888427555128 %   9.07111572444872 %\n",
            "2010   91.85744366291833 %   8.142556337081672 %\n",
            "2011   90.62047777010932 %   9.379522229890688 %\n",
            "2012   93.32239976950865 %   6.677600230491345 %\n",
            "2013   91.19821249582358 %   8.801787504176412 %\n",
            "2014   94.26988942963611 %   5.730110570363885 %\n",
            "#################3###################\n",
            "              title_field  year  value\n",
            "0  Occupied Housing Units  2014  46295\n",
            "0    Vacant Housing Units  2014   4483\n",
            "#################4###################\n",
            "Harmonic mean is:  44398.28543969185\n"
          ],
          "name": "stdout"
        },
        {
          "output_type": "stream",
          "text": [
            "/usr/local/lib/python3.6/dist-packages/ipykernel_launcher.py:13: DeprecationWarning: The truth value of an empty array is ambiguous. Returning False, but in future this will result in an error. Use `array.size > 0` to check that an array is not empty.\n",
            "  del sys.path[0]\n"
          ],
          "name": "stderr"
        }
      ]
    },
    {
      "cell_type": "code",
      "metadata": {
        "id": "3VAVKUddd1PO",
        "colab_type": "code",
        "colab": {}
      },
      "source": [
        ""
      ],
      "execution_count": null,
      "outputs": []
    }
  ]
}